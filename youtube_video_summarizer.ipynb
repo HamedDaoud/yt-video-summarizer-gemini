{
 "cells": [
  {
   "cell_type": "markdown",
   "metadata": {},
   "source": [
    "## Set video_url for the video you want to summarize and import youtube_transcript_api"
   ]
  },
  {
   "cell_type": "code",
   "execution_count": 3,
   "metadata": {},
   "outputs": [],
   "source": [
    "video_url = 'https://www.youtube.com/watch?v=hOUGNGWmN0k&t=1249s'"
   ]
  },
  {
   "cell_type": "code",
   "execution_count": 4,
   "metadata": {},
   "outputs": [],
   "source": [
    "from youtube_transcript_api import YouTubeTranscriptApi"
   ]
  },
  {
   "cell_type": "markdown",
   "metadata": {},
   "source": [
    "## Extract video ID"
   ]
  },
  {
   "cell_type": "code",
   "execution_count": 5,
   "metadata": {},
   "outputs": [],
   "source": [
    "def get_video_id(video_url):\n",
    "    return video_url.split('watch?v=')[-1]"
   ]
  },
  {
   "cell_type": "code",
   "execution_count": 6,
   "metadata": {},
   "outputs": [],
   "source": [
    "video_id = get_video_id(video_url)"
   ]
  },
  {
   "cell_type": "markdown",
   "metadata": {},
   "source": [
    "## Extract Trascript using YouTubeTrascriptApi"
   ]
  },
  {
   "cell_type": "code",
   "execution_count": 7,
   "metadata": {},
   "outputs": [],
   "source": [
    "transcript = YouTubeTranscriptApi.get_transcript(video_id)"
   ]
  },
  {
   "cell_type": "code",
   "execution_count": null,
   "metadata": {},
   "outputs": [],
   "source": [
    "# Get rid of timestamps\n",
    "transcript_joined = \"\".join([f\"{line['text']} \" for line in transcript])"
   ]
  },
  {
   "cell_type": "code",
   "execution_count": 9,
   "metadata": {},
   "outputs": [
    {
     "data": {
      "text/plain": [
       "\"- Hello everyone. Welcome. Thank you for tuning in for Middle Ground, which is all about disagreeing\\nand having a dialogue. - That's right. Make sure you stick around to the end because we wanna discuss more about the ethos of Middle Ground, but for now we hope you enjoy. - You said that women are\\nmisguided. We are not misguided. We do not need you to shepherd us. (tense music) - [Host] How's it going? Hello.\\n- Hello. - [Host] Would you call\\nyourself a feminist? - I would. - Yes, an intersectional feminist. - [Host] When you hear the word feminism, what comes to mind? - Marxism. - To me, feminism is fairness. - I think that it's\\nunfortunately misguided. - Feminism is a flawed movement. - [Host] When you hear the phrase men's rights, what comes to mind? - Aggression. - Advocating for the human\\nrights of men as a class. - I start laughing. - [Host] What do you hope to\\nget in the conversation today? - I would hope to get some insight and, probably, if anything, agree on a lot more than disagreeing. - I actually hope to get a little bit more understanding of why\\nsome men think this way. - [Host] Do you think\\nthere's middle ground between men's rights\\nactivists and feminism? - We'll see. (tense music) - Hi, my name is Zach\\nand I am 24 years old. - This is Chris. I'm a PhD student at the\\nUniversity of Southern California and I'm also a Title IX\\nspecialist who challenges discrimination against men on college campuses and I'm 30 years old. - Hi, I'm Derrick. I also by (indistinct). I'm a YouTuber and I am\\nalso known as an incel, which is an involuntarily celibate. - Hi, my name is Alyesha. I am a writer, poet, and teaching artist. - Hi. I currently work in the pet health industry and I'm 30. - I'm 24. I'm a graduate student with a degree in health sciences and I'm\\nexcited to be here today. - [Host] Can I get my\\nmen's rights activists in the left and my feminists on the right? Step forward, if this\\nstatement is true for you. I believe men and women\\nare different but equal. (feet shuffling) - I know as a woman that I\\ndon't have the same physical strengths. Men and women\\nare built differently. I think whenever things are built differently it's for a reason, right? But at the same time the amount of limits that have been put on women historically, like the fact that not too long ago we were just allowed to start voting. Even today, like the wage\\ngap, just all types of stuff. Like women just don't have a\\nlot of rights that are just, it should have nothing\\nto do with what gender we are to be able to be paid equally or just be treated with respect. So yeah. - I do believe that of course there are biological differences\\nbetween men and women. And of course there should\\nalso be legal equality. Of course, I disagree with the idea that women face systemic discrimination. You just mentioned the wage gap, which has been debunked so many times. - I've studied evolutionary\\nbiology quite a bit and men and women are very different from not just a physical, you know, the bone structure, the\\nneurological department as well, as well as the chemical balances and also I don't believe\\nthat men and women are equal under the law\\neither. They should be, rather. Children are not equal under the law and it's not because we hate children, it's because we love them\\nand we want to protect them. - So if you believe we're not equal, then you're inferring that one would be greater than the other. - Well, so let me try with my perspective. As far as not being equal, I don't think that that necessarily means inferior or superior. When it comes to certain things like roles like childbearing a woman is going to be far more productive and a lot more nurturing than, say, a man. And when it comes to doing a lot more of the heavy lifting in the work, a man is probably going to\\nbe more suited for that role and I don't think that that\\nmakes them any better or worse. We are just built, created\\nand born different. - I would also like to elaborate. I am not saying that they are worse overall or better overall. - They compliment each other. - Yeah, they do. - They compliment each other beautifully. - They work very well together. - We need each other for offspring. I mean that that's part\\nof the beauty of it and I think trying to equalize\\nthem and make them the same and, you know, transition and all that, I don't believe is going\\nto be the most conducive when it comes to raising children, but also just for overall wellbeing. - I wanna note that you brought\\nup children being unequal to adults. I just hope you weren't\\ncomparing women to children. - I mean it was technically a comparison of women and children. - I don't need you to protect me, I just need you not to harm\\nme. I can protect myself. I'm very capable of doing\\nwhat I need to do. Okay? - Okay, sure. - 100%. - I am an incel, or an\\nincel advocate I suppose. I don't hate women at all. I think we're different\\nand they have aspects that are superior to men as well. It's just very contextual on the subject. - [Host] Toxic masculinity is real. - I think that toxic masculinity\\nis definitely a real thing. It's kind of just the idea of\\nwhat masculinity should be. But it goes wrong a lot of the\\ntimes saying that violence, sex, power, being a controlling\\nperson makes you a man. - I see it in very unfortunate places. Like when the young men\\nor boys in my family, even from like toddler age are\\ntold you shouldn't be crying, boys don't cry, and what that turns into, I see it when I'm in a bookstore and a guy who tries to get my number says, why y'all always gotta act like that? And he sincerely had\\nthis like cracking voice like he was hurt but\\nit was an entitlement. And that's toxic masculinity. It's saying like you don't realize how your behavior is harmful. - What does toxic masculinity mean? Is it character traits? Is it upbringing? - The suppression of\\nfeeling for a lot of men because throughout childhood\\nthey're told, man up. So because of that there's\\na lot of repression. Repression then is usually\\nchanneled into anger for some people because they don't always know how to express 'cause\\nthey're told not to express. - So upbringing and environment. - That's part of it, yes. - Okay, but not something\\nthat's inherently a part of men. - I think that, you know, when you're showing your\\nemotions, especially to like, you know, random people,\\nrandom women in some cases, they will view you as weak. I was raised by a single\\nmother, I love her. You know, she's my mom. I love her. But I could have used being\\ntold to act like a man. I think back there were some\\ncases where I was too emotional and that negatively affected how I, you know, what happened to me. - And may I ask the question? - Sure. - What is your definition\\nof weak as a man? - Not being as forward as you could be. Not being as honest or, you know, trying to be not as emotional\\nas you don't need to be. You know, you don't\\nhave to cry over a cut. I know, you know,\\nsometimes cuts hurt a lot, but sometimes it's necessary to be strong for the benefit of not just yourself but for the people around you. You know, it's fine to act emotional in certain cases but I don't think it's fine to act that way with a woman. Maybe, you know, you\\nhave a really good friend and he sees you cry, you\\nknow, he's your best friend, and you're crying about\\nsomething really personal. I think that's fine. - I feel like you're conflating\\ntwo different situations because you started off with saying random person or even women. So it feels like, okay, this is a woman that you\\ndon't have a bond with or any type of relationship with. And then you mentioned or in\\nfront of your best friend, you know, that's okay to cry. Well that woman could be your best friend. You know, like, so again. - I don't think you can be\\nfriends with a woman, so. - Because you don't see us\\nas equal, as you said before. - I don't think showing\\nemotions is a sign of weakness. I actually think it's a sign of strength. Men do live shorter\\nlives and that's because of a repression of emotions and that's due to many things that\\npatriarchy has instilled. - Repression of emotions. - It has been shown that\\na person's wellbeing, their lifespan is shortened when they are not able to express their emotions. In addition, when they\\ndon't have physical touch or when they don't have a\\npartner to keep them company. We are human beings here. We\\nneed to talk to each other. And if you think that\\nour health isn't affected when you're not able to express that you are sad or upset, you're wrong. I think that men's\\nrights activists are only men's rights activists\\nas a response to women expressing that they want more equality. I don't think they focus on\\nactual men's rights issues and rather it's just an\\nattack on women and feminism. - [Host] Today women have\\nmore advantages than men. - I can speak from a hiring standpoint when it comes to things\\nlike affirmative action and there are certain\\nroles that traditionally men and women have been able to serve in and now women can basically\\ndo all of those things, right? Because we've had such a strong advocacy for equal representation in the workplace. Whereas for example, you know, you'll never find a\\nman as a midwife nurse. And I don't think it's appropriate. That's why there are those differences. - Women in like the most important parts of society have an advantage. There's a lot of positions that men simply aren't getting hired at\\nanymore because of, you know, the fact that they're a man and it's not just in the workforce. It's also, I would say, you know, it's a lot easier for a\\nwoman to find a relationship even if she, you know, says it's all, oh, finding the right guy\\nis so hard. It really isn't. But sometimes for a lot of guys, finding a girl at all is hard. - If I have to consider what\\nI wear before stepping out the house because I don't want to draw some type of attention, I don't know how many\\nother men have to consider, is this outfit gonna\\nbe deemed safe for me? Any situation that I've experienced where I physically felt endangered simply because I don't wanna give my number out. It's part of that entitlement for men. You're not entitled a\\nconversation with me, you're not entitled to my number. - That aside, it's like are you going\\nto make one example of the entitlement of men when it comes to asking for your number be the all-encompassing\\nthing that all men have a problem when it comes\\nto approaching women? - Well firstly, it's not just an example, it's not necessarily all\\nmen. I don't dislike men. I love sports, I play video games, I have bros, I hang out with dudes. We just want men to realize\\nthat if you have friends that are having locker\\nroom talk, as a man, as a ally, please say\\nsomething to your friends. - Do you think repressing that is really the solution here though. If it's in a healthy male space. - I don't think that's healthy. I think it's toxic in itself. - I mean if you're making jokes and you're doing all of that. - Jokes that are harmful\\njokes are not healthy because they just lead to\\npeople normalizing things. People always say, oh, it's just a joke. But when someone else hears it, they don't realize how that resonates, and again, how that turns into violence. Like this is not a isolated situation. I'm only thinking of three\\noff the top of my head 'cause if I think of too many\\nI'm gonna spiral right now. - So what's the alternative? Men shouldn't talk about these things. - No, I think men can\\nhave a healthy dialogue. I don't think men have to be toxic in order to have a conversation. I know plenty of men that are able to have conversations about healthy, productive things just like women are. - Well it's not obviously something that I have personal experience with, but only 1% of all people on the death row are women in this country. So when women and men\\ncommit identical crimes, women are much more likely to, for example, escape the death penalty, and that's just plain\\nsex-based discrimination. - That I agree on. - That's true. Look, I'm thinking about basic\\nneeds like around the globe. The women who don't even have\\nproper sanitary products. - I mean, I have to agree, it's just small things like\\na tax on a box of tampons. Do you think I choose\\nto to do this monthly? No. Trust me. So why should I have to pay taxes when this is a medical necessity? - It's we're just dismissed,\\na lot of our symptoms, a lot of the things we report,\\nespecially women of color, but women across the board are just treated a lot less equally. - I'd say that I'm an advocate for what I believe the role that\\nmen play in society. I believe that their views\\nshould be expressed openly, that they should be given\\na platform to do so, and I believed in men unapologetically and unashamedly being\\nmen as we were created. - I think in my heart that there are things that men are entitled to. I am all about human rights\\nand I try to consider, I do consider the rights of every human, but every time I hear of\\na men's rights activist, I hear anger and I hear\\nvery illogical reasoning and it just boils my blood 'cause it's a setback for all of us. - [Host] I feel that the other side does not understand my values. - I think a lot of times\\nwhen a movement is created, the other side thinks that\\nthey're being attacked or think that it's some,\\nlike, attempt at erasure. That's not what feminism is about at all. What do you need a whole men's rights activism movement for?\\nI'm sincerely confused. - Well, I mean like I will advocate for positive masculinity and what men should represent and\\nhealthy outlets for men. Like I still think the Boy Scouts should be exclusively the\\nBoy Scouts for example. One of those things where I would like to think that we could\\nget some common ground is when it comes to the clear biases that are in the court system, especially in the marriage and\\nfamily court system, right? And right there is what I would advocate for when it comes to men's rights. - The things that stand valid like that I'm hearing from y'all\\nthat are like valid to me come from a place of like\\nI am treated like unfairly by the system versus a lot of\\nthe things women are saying, it's also America and the system as well. But a lot of it is like harm from men. - How and where? - How and where what? - Where's this harm from men coming from? - Okay, it started when I was young, I'm not gonna talk too long. I was 16. Got a bottle thrown at me\\nbecause I told a boy no. It started when I was in\\na club. A boy touched me. I said no, he kept touching me. He got to the point he got violent. It gets to the point that the only reason why a man decided to stop touching me in the bookstore I talked about earlier is because he realized my\\nhusband was not too far away. And he said, sorry, bro. Never said sorry to me. That's why. And that's off the top of my head. This is why I get upset because I'm like, I'm here to talk about like how you feel, but when you just dismiss the fact that women actually have experiences, that's when it seems like it's\\nabout more than your rights. It seems like it's about your ego and that's where I get pissed off. How dare you tell another human being that their experiences, what they're telling you right in front of your face is not valid. - I didn't say they were invalid. I said, how and why? I'm\\ntrying to understand. - How and Why? Because it\\nhappened, it happened many times. It happened yesterday, it happened today. - I think some of the things\\nthat you guys are touching on, such as the court system and gender roles are a subject of\\npatriarchy and that's part of what women are trying to dismantle is those traditional gender roles. - Are there any feminist organizations that have done anything, for example, to challenge bias against men and fathers in the family court system? - Yes, absolutely. Can you please like give me\\nlike a list of feminist advocacy organizations that have engaged\\nin any meaningful advocacy to address those issues because\\nthere are actually none. - Okay, I know that you came with your little research or whatever, I didn't come with a list of\\nlike feminist organizations, but I know actively that there\\nare women's organizations that are trying to dismantle\\nthose inequalities. - Just one, just one name,\\njust one organization. - Again, I didn't come\\nwith a list my dude. - There are no such organizations. - [Host] In what ways\\nare men's rights at risk? - I think there has been\\nsignificant progress over the last decade or so,\\nespecially in the legal field, but I think there are still\\nsignificant disparities that need to be addressed,\\nsuch as poor health conditions, bias against men in the\\ncriminal justice system, bias against men in family\\ncourts and bias against men in the educational system,\\nespecially in colleges. - [Host] Men and women should be allies. - Men, unfortunately, many of them don't want to even have this open dialogue that\\nwe're sharing right now. We need men to help be allies\\nto help speak to other men. - It strikes me like\\nthe way you phrase this, you almost want men to say certain things that you want them to say as opposed to maybe actually listening\\nwhat they're saying. - What certain things\\nwould I want to hear? - Just kind of like men being allies, men talking to other men, et cetera. I'm completely okay with that, but I'm not going to repeat like feminist talking points to other men. - We all believe different things. We may be under the label\\nof men's rights activists, but for example, I'm probably the most\\ntraditionalist person here. I think we should be allies, but maybe us being allies in a patriarchy wouldn't be so bad. You know, us going back to\\nthe past wouldn't be so bad. It would probably be a lot\\nhappier if we were, you know, getting married and staying married and having kids and, you know,\\ngoing to church and all that. Ladi-dadi-da. - While speaking to the three of you, I feel like you're each coming\\nfrom different perspectives, so it's hard to, you know, again, just like our perspectives,\\nit's hard to generalize. So to me I feel like\\nthere are certain things that even though we're\\nnot fully agreeing on it, where things may get lost in translation, our verbiage may not be 100% correct, that we could at least agree on. - Can I ask one question? What would you envision would be the ideal man with the end goal of feminism as far as educating men or working to dismantle whatever patriarchy is? Like, what does that man look like? - It starts with childhood. We have to teach children\\nas well as girls, 'cause we're also taught\\nbecause of toxic masculinity, what a man should be as well. - I think that we just need to hold men accountable in order to\\nkind of make progress. We need help from people that will listen because, let's be real, when\\nwe express our concerns, a lot of men refuse to listen, but they would be more likely\\nto listen to another man. - Do you also feel like you\\nhave an ethical obligation to challenge other women\\nor other feminists? Men, for example, they deny\\nthat men face discrimination. - When it comes to things\\nlike, oh, men can't be abused. I actually have had this\\nconversation with another woman and it's the idea that just because a man may be physically stronger than us does not mean they cannot be abused. And because of that, again, fairness, women need to be held accountable as well. I want to understand their viewpoint. As a woman and a woman of color, I know how it feels to be disenfranchised, so I wanna understand why they feel the need to have a men's right movement. - [Host] I feel empathy\\nfor the other side. - I don't think there's ever a time in my life where a person\\nsays they're hurting and I don't at least try\\nto listen or understand. My only thing is that I\\nwant the same in return. So when I'm genuinely saying I'm hurting or I've been through\\nsomething and it's not just a personal experience\\nbecause I actively do this work and surround myself with women saying I've been hurt by a man before. I get that you have stories but, I mean, that's actually my question. I haven't heard y'all stories. Like I've sat up here and said, I have three on the top of my head. I have about 30 plus, probably, and I haven't heard y'all say,\\nthis is what happened to me. - I don't think that I'll ever\\ninvalidate a woman's feelings when she says, hey, I've\\nbeen abused or whatnot. I don't think any of us here\\nare rightfully saying that, but I think what's dangerous\\nis when emotional testimony that may not always be what it is gets, you know, creates bias, right? - Okay, I feel empathy\\nfor women being lost, being misguided. Look, I don't know. Let's, you can go. - Do you have any bit of empathy for anything we've said up here? - Yes, I really do feel empathy for women. - Why was that so hard to say? Like for the stuff that we said? Do you have any bit of empathy for the stories I said up here? - Yeah, yes, I do. I do. - Like I'm not even trying to be hostile, I just genuinely want to know. - Yeah, I just think that\\nlike a lot of the problems that have happened in your\\nlife are because society is not patriarchal, it's not traditional. We're gone, we're lost. We're\\nin a fallen state, right? - There is a change of guard, not necessarily a change of guard, but things are evolving,\\nthings are changing, and I feel like a lot of men speak from a viewpoint almost of fear. A lot of men are having a hard time grasping that and feeling\\ncomfortable with it. - I do feel empathy for\\nyour personal experience, but I cannot sympathize with\\nthe ideological position because that ideological\\nposition is built on a fallacy and that fallacy is actually causing very real consequences for men\\nas a class in this country. So I understand that you are here with us as kind of the good feminist, so to speak, that you feel empathy for\\nmen and I believe you, but I do not believe your movement and I do not believe your ideology. - [Host] All right, we'll leave\\nit at that. That's a wrap. - Yay. Group hug.\\n- I'm sweaty. - [Host] You guys can shake hands. - You are very articulate.\\n- Oh, thank you. - So are you.\\n- Yes, how are you? Thanks for your time. - Okay, that was interesting. - John, what do you think it\\nmeans to disagree (indistinct)? - I think when you disagree, it's important to acknowledge\\nthe other side's opinion and to kind of respect that opinion and to know that maybe\\nyou can't change it. And I think that like we've\\nhad a lot of Middle Grounds where people stick to their sides, but they at least acknowledge and try their best to understand where the other person is coming from. And sometimes I think that's\\nthe best we can ask for. - Well, we want to hear from y'all too. Let us know about, you know, something that you may have\\nagreed with or disagreed with. We wanna see the same type\\nof meaningful dialogue in the comments below. We'll\\nbe looking out for those. As always, make sure you leave\\na comment, like, subscribe. I'll see you guys next time. - Peace. \""
      ]
     },
     "execution_count": 9,
     "metadata": {},
     "output_type": "execute_result"
    }
   ],
   "source": [
    "transcript_joined"
   ]
  },
  {
   "cell_type": "markdown",
   "metadata": {},
   "source": [
    "## Define Prompt and load Gemeni API Key from config.yaml"
   ]
  },
  {
   "cell_type": "code",
   "execution_count": 11,
   "metadata": {},
   "outputs": [],
   "source": [
    "prompt = f'\"Summarize this text: \\ntext={transcript_joined}\"'"
   ]
  },
  {
   "cell_type": "code",
   "execution_count": 13,
   "metadata": {},
   "outputs": [],
   "source": [
    "import yaml\n",
    "\n",
    "# Function to load API key from YAML file\n",
    "def load_api_key():\n",
    "    try:\n",
    "        with open(\"config.yaml\", \"r\") as file:\n",
    "            config = yaml.safe_load(file)\n",
    "            return config.get(\"api_key\")\n",
    "    except FileNotFoundError:\n",
    "        raise FileNotFoundError(\"config.yaml not found! Make sure you created it and added your API key.\")\n",
    "\n",
    "# Load API key\n",
    "api_key = load_api_key()"
   ]
  },
  {
   "cell_type": "markdown",
   "metadata": {},
   "source": [
    "## Print Video Summary"
   ]
  },
  {
   "cell_type": "code",
   "execution_count": 15,
   "metadata": {},
   "outputs": [
    {
     "name": "stdout",
     "output_type": "stream",
     "text": [
      "\"Middle Ground\" explores the complexities of disagreement and dialogue by hosting feminists and men's rights activists for a respectful discussion. The feminists emphasized systemic discrimination against women, while the activists highlighted perceived biases against men, particularly in the legal system. However, both sides expressed empathy for the personal experiences of the other, acknowledging the importance of addressing harm from men, promoting healthy masculinity, and ensuring fairness. The discussion delved into the concept of patriarchy and its dismantling, highlighting the need for men to be allies and hold each other accountable. While acknowledging ideological differences, the participants expressed a willingness to find common ground, emphasizing the value of listening, understanding, and respectful dialogue.\n"
     ]
    }
   ],
   "source": [
    "import google.generativeai as genai\n",
    "\n",
    "# Configure Gemini API\n",
    "genai.configure(api_key=api_key)\n",
    "\n",
    "\n",
    "# Create the chat completion request\n",
    "model = genai.GenerativeModel(\"gemini-pro\")\n",
    "\n",
    "chat_completion = model.generate_content(prompt)\n",
    "\n",
    "# Print response\n",
    "print(chat_completion.text)"
   ]
  }
 ],
 "metadata": {
  "kernelspec": {
   "display_name": "tf",
   "language": "python",
   "name": "python3"
  },
  "language_info": {
   "codemirror_mode": {
    "name": "ipython",
    "version": 3
   },
   "file_extension": ".py",
   "mimetype": "text/x-python",
   "name": "python",
   "nbconvert_exporter": "python",
   "pygments_lexer": "ipython3",
   "version": "3.9.21"
  }
 },
 "nbformat": 4,
 "nbformat_minor": 2
}
